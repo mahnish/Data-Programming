{
 "cells": [
  {
   "cell_type": "code",
   "execution_count": 1,
   "metadata": {},
   "outputs": [
    {
     "name": "stdout",
     "output_type": "stream",
     "text": [
      "enter x1: 1\n",
      "enter y1: 3\n",
      "enter x2: 10\n",
      "enter y2: 6\n",
      "enter x: 4\n",
      "enter y: 4\n",
      "true\n"
     ]
    }
   ],
   "source": [
    "# question 1\n",
    "x1= eval(input('enter x1: '))\n",
    "y1= eval(input('enter y1: '))\n",
    "x2= eval(input('enter x2: '))\n",
    "y2= eval(input('enter y2: '))\n",
    "x=eval(input('enter x: '))\n",
    "y=eval(input('enter y: '))\n",
    "\n",
    "if (x>x1 and x<x2 and y>y1 and y<y2 ):\n",
    "    print('true')\n",
    "else:\n",
    "    print('false')"
   ]
  },
  {
   "cell_type": "code",
   "execution_count": 22,
   "metadata": {},
   "outputs": [
    {
     "name": "stdout",
     "output_type": "stream",
     "text": [
      "Stockhausen\n",
      "Stravinsky\n"
     ]
    }
   ],
   "source": [
    "# question 2\n",
    "composer= ['Rzewski', 'Ruggles', 'Carter', 'Stockhausen', 'Stravinsky']\n",
    "for name in composer:\n",
    "    if(len(name)>=10):\n",
    "        print (name)"
   ]
  },
  {
   "cell_type": "code",
   "execution_count": 37,
   "metadata": {},
   "outputs": [
    {
     "name": "stdout",
     "output_type": "stream",
     "text": [
      "Antheil\n",
      "Elgar\n",
      "Chadwick\n",
      "Parker\n"
     ]
    }
   ],
   "source": [
    "# question 3\n",
    "composers=['Antheil', 'Elgar', 'Saint-Saens', 'Chadwick', 'Coleridge-Taylor', 'Parker', 'Castelnuovo-Tedesco']\n",
    "for name in composers:\n",
    "        if('-'not in name and ' 'not in name):\n",
    "            print (name)"
   ]
  },
  {
   "cell_type": "code",
   "execution_count": 2,
   "metadata": {},
   "outputs": [
    {
     "name": "stdout",
     "output_type": "stream",
     "text": [
      "appyhay\n",
      "enterway\n"
     ]
    }
   ],
   "source": [
    "# question 4\n",
    "def pig(word):\n",
    "    word=word.lower()\n",
    "    if word[0]=='a' or word[0]=='e' or word[0]=='i' or word[0]=='o' or word[0]=='u':\n",
    "        print(word+'way')\n",
    "    else:\n",
    "        print(word[1:]+word[0]+'ay')\n",
    "\n",
    "pig('Happy')\n",
    "pig('Enter')"
   ]
  },
  {
   "cell_type": "code",
   "execution_count": 4,
   "metadata": {},
   "outputs": [
    {
     "name": "stdout",
     "output_type": "stream",
     "text": [
      "Tue, Oct 20, 2014\n",
      "Thu, May 1, 2014\n"
     ]
    }
   ],
   "source": [
    "# question 5\n",
    "def date(weekday, month, dayOfMonth, year):\n",
    "    print('{}, {} {}, {}'.format(weekday[0:3],month[0:3],dayOfMonth,year))\n",
    "    \n",
    "date('Tuesday', 'October', 20, 2014)\n",
    "date('Thursday', 'May', 1, 2014)"
   ]
  },
  {
   "cell_type": "code",
   "execution_count": 154,
   "metadata": {},
   "outputs": [
    {
     "name": "stdout",
     "output_type": "stream",
     "text": [
      "Sensible party                     29412    49.98%\n",
      "Silly party                        29397    49.96%\n",
      "Very Silly party                      37     0.06%\n"
     ]
    }
   ],
   "source": [
    "# question 6\n",
    "def electionResults(parties, votes):\n",
    "    for i in range(len(parties)):\n",
    "        percent=(votes[i]/sum(votes))*100\n",
    "        percent=round(percent,2)\n",
    "        print((parties[i]+\" party\").ljust(30)+str(votes[i]).rjust(10)+(str(percent)+\"%\").rjust(10))\n",
    "\n",
    "\n",
    "electionResults(['Sensible', 'Silly', 'Very Silly'], [29412, 29397, 37])"
   ]
  },
  {
   "cell_type": "code",
   "execution_count": 220,
   "metadata": {},
   "outputs": [
    {
     "name": "stdout",
     "output_type": "stream",
     "text": [
      "3\n"
     ]
    }
   ],
   "source": [
    "# question 7\n",
    "def countWord(filename, search):\n",
    "    file=open(filename, 'r')\n",
    "    content=(file.read())\n",
    "    file.close()\n",
    "    print(content.count(search))\n",
    "            \n",
    "countWord('gettysburg.txt', 'people')\n",
    "            "
   ]
  },
  {
   "cell_type": "code",
   "execution_count": 219,
   "metadata": {},
   "outputs": [
    {
     "name": "stdout",
     "output_type": "stream",
     "text": [
      "There are 15 patients of blood type A\n",
      "There are 1 patients of blood type B\n",
      "There are 13 patients of blood type AB\n",
      "There are 15 patients of blood type O\n",
      "There are 0 patients of blood type OO\n"
     ]
    }
   ],
   "source": [
    "# question 8\n",
    "def bldcount(filename):\n",
    "    file=open(filename, 'r')\n",
    "    bGroup=(file.read()).split()\n",
    "    file.close()\n",
    "    a,b,aB,o,oO=0,0,0,0,0\n",
    "    for word in bGroup:\n",
    "        if word=='A':\n",
    "            a+=1\n",
    "        elif word=='B':\n",
    "            b+=1\n",
    "        elif word=='AB':\n",
    "            aB+=1\n",
    "        elif word=='O':\n",
    "            o+=1\n",
    "        else:\n",
    "            oO+=1\n",
    "    \n",
    "    print('There are '+str(a)+' patients of blood type A')\n",
    "    print('There are '+str(b)+' patients of blood type B')\n",
    "    print('There are '+str(aB)+' patients of blood type AB')\n",
    "    print('There are '+str(o)+' patients of blood type O')\n",
    "    print('There are '+str(oO)+' patients of blood type OO')\n",
    "    \n",
    "    \n",
    "bldcount('bloodtype1.txt')\n",
    "        \n",
    "    "
   ]
  },
  {
   "cell_type": "code",
   "execution_count": 18,
   "metadata": {},
   "outputs": [],
   "source": [
    "# question 9\n",
    "openfile=open('logfile.txt', 'a')\n",
    "openfile.write('Processing complete, ending program normally.')\n",
    "openfile.close()"
   ]
  },
  {
   "cell_type": "code",
   "execution_count": 227,
   "metadata": {},
   "outputs": [
    {
     "name": "stdout",
     "output_type": "stream",
     "text": [
      "'The price of freedom is eternal vigilance.' Thomas Jefferson\n",
      "\n",
      "'Anyone who considers arithmetical methods of producing random digits is, of course, in a state of sin.' John Von Neumann\n",
      "\n",
      "'And so it often happens that an apparently ingenious idea is in fact a weakness which the scientific cryptographer seizes on for his solution.' Herbert Yardley\n"
     ]
    }
   ],
   "source": [
    "# question 10\n",
    "def quote(sTerm):\n",
    "    file=open('quotes.txt', 'r')\n",
    "    lines=file.readlines()\n",
    "    file.close()\n",
    "    for line in lines:\n",
    "        if sTerm in line:\n",
    "            print(line)\n",
    "    \n",
    "quote('is')"
   ]
  },
  {
   "cell_type": "code",
   "execution_count": 10,
   "metadata": {
    "scrolled": false
   },
   "outputs": [
    {
     "name": "stdout",
     "output_type": "stream",
     "text": [
      "264255000.0\n",
      "\n"
     ]
    }
   ],
   "source": [
    "# question 11\n",
    "def freq(lName):\n",
    "    lName=lName.upper()\n",
    "    file=open('last.txt', 'r')\n",
    "    data=(file.read()).split()\n",
    "    file.close()\n",
    "    nOfPeople=''\n",
    "    for i in range(0,len(data),2):\n",
    "        if data[i]==lName:\n",
    "            nOfPeople=float(data[i+1])*(3*10**8)\n",
    "    print(nOfPeople)\n",
    "freq('smIth')\n",
    "freq('Perkovic')"
   ]
  },
  {
   "cell_type": "code",
   "execution_count": 50,
   "metadata": {},
   "outputs": [
    {
     "name": "stdout",
     "output_type": "stream",
     "text": [
      "122.96544\n",
      "1.241401\n"
     ]
    }
   ],
   "source": [
    "# question 12\n",
    "def curconv(currency, amount):\n",
    "    file=open('currencies.txt', 'r')\n",
    "    rates=(file.read()).split()\n",
    "    file.close()\n",
    "    totalAmt=0\n",
    "    for i in range(len(rates)):\n",
    "        if rates[i]==currency:\n",
    "            totalAmt=float(rates[i+1])*amount\n",
    "    print(totalAmt)\n",
    "    \n",
    "curconv('EUR',100)\n",
    "curconv('JPY',100)"
   ]
  },
  {
   "cell_type": "markdown",
   "metadata": {},
   "source": [
    "#### question 13\n",
    "| Errors                                                                                   | Error Message|\n",
    "|------------------------------------------------------------------------------------------|--------------|\n",
    "|Trying to add incompatible variables, as in adding 6 + ‘a’                                | Type Error   |\n",
    "|Referring to the 12th item of a list that has only 10 items                               | Index Error  |\n",
    "|Using a value that is out of range for a function’s input, such as calling math.sqrt(-1.0)| Value Error  |\n",
    "|Using an undeclared variable, such as print(x) when x has not been defined                | Name Error   |\n",
    "|Trying to open a file that does not exist, such as mistyping the file name or looking in the wrong directory. |FileNotFound Error|\n",
    "\n"
   ]
  },
  {
   "cell_type": "code",
   "execution_count": 16,
   "metadata": {},
   "outputs": [],
   "source": [
    "# question 14\n",
    "def clean(filename):\n",
    "    newsFile=open(filename, 'r')\n",
    "    news=((newsFile.read()).lower().split())\n",
    "    newsFile.close()\n",
    "    cleaner=open('stop.txt', 'r')\n",
    "    deletingWords=(cleaner.read()).split()\n",
    "    cleaner.close()\n",
    "    for i in range(0,len(deletingWords),1):\n",
    "        j=0\n",
    "        while j<len(news):\n",
    "            if deletingWords[i]==news[j]:\n",
    "                del news[j]\n",
    "            else:\n",
    "                j+=1\n",
    "    \n",
    "    newfile=open('words.txt','w+')\n",
    "    newfile.write(' '.join(news))\n",
    "    newfile.close()\n",
    "\n",
    "    \n",
    "clean('speech.txt')"
   ]
  },
  {
   "cell_type": "code",
   "execution_count": 69,
   "metadata": {},
   "outputs": [
    {
     "name": "stdout",
     "output_type": "stream",
     "text": [
      "At twilight, nature is not without loveliness, though perhaps its chief use is to illustrate quotations from the poets.\n",
      "\n",
      "A little sincerity is a dangerous thing, and a great deal of it is absolutely fatal.\n",
      "\n",
      "Patriotism is the virtue of the vicious. \n",
      "\n"
     ]
    }
   ],
   "source": [
    "# question 15\n",
    "def quote(filename, i):\n",
    "    file=open(filename, 'r')\n",
    "    quotes=(file.readlines())\n",
    "    file.close()\n",
    "    print(quotes[i])\n",
    "    \n",
    "quote(\"Wilde_Quotes.txt\", 5)\n",
    "quote(\"Wilde_Quotes.txt\", 0)\n",
    "quote(\"Wilde_Quotes.txt\", 23)"
   ]
  },
  {
   "cell_type": "code",
   "execution_count": null,
   "metadata": {},
   "outputs": [],
   "source": []
  }
 ],
 "metadata": {
  "kernelspec": {
   "display_name": "Python 3",
   "language": "python",
   "name": "python3"
  },
  "language_info": {
   "codemirror_mode": {
    "name": "ipython",
    "version": 3
   },
   "file_extension": ".py",
   "mimetype": "text/x-python",
   "name": "python",
   "nbconvert_exporter": "python",
   "pygments_lexer": "ipython3",
   "version": "3.7.4"
  }
 },
 "nbformat": 4,
 "nbformat_minor": 2
}
